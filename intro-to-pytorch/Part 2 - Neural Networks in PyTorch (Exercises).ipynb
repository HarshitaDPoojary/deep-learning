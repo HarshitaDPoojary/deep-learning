{
 "cells": [
  {
   "cell_type": "markdown",
   "metadata": {},
   "source": [
    "# Neural networks with PyTorch\n",
    "\n",
    "Deep learning networks tend to be massive with dozens or hundreds of layers, that's where the term \"deep\" comes from. You can build one of these deep networks using only weight matrices as we did in the previous notebook, but in general it's very cumbersome and difficult to implement. PyTorch has a nice module `nn` that provides a nice way to efficiently build large neural networks."
   ]
  },
  {
   "cell_type": "code",
   "execution_count": null,
   "metadata": {},
   "outputs": [],
   "source": [
    "# Import necessary packages\n",
    "\n",
    "%matplotlib inline\n",
    "%config InlineBackend.figure_format = 'retina'\n",
    "\n",
    "import numpy as np\n",
    "import torch\n",
    "\n",
    "import helper\n",
    "\n",
    "import matplotlib.pyplot as plt"
   ]
  },
  {
   "cell_type": "markdown",
   "metadata": {},
   "source": [
    "\n",
    "Now we're going to build a larger network that can solve a (formerly) difficult problem, identifying text in an image. Here we'll use the MNIST dataset which consists of greyscale handwritten digits. Each image is 28x28 pixels, you can see a sample below\n",
    "\n",
    "<img src='assets/mnist.png'>\n",
    "\n",
    "Our goal is to build a neural network that can take one of these images and predict the digit in the image.\n",
    "\n",
    "First up, we need to get our dataset. This is provided through the `torchvision` package. The code below will download the MNIST dataset, then create training and test datasets for us. Don't worry too much about the details here, you'll learn more about this later."
   ]
  },
  {
   "cell_type": "code",
   "execution_count": 3,
   "metadata": {},
   "outputs": [
    {
     "name": "stdout",
     "output_type": "stream",
     "text": [
      "Downloading http://yann.lecun.com/exdb/mnist/train-images-idx3-ubyte.gz\n",
      "Downloading http://yann.lecun.com/exdb/mnist/train-labels-idx1-ubyte.gz\n",
      "Downloading http://yann.lecun.com/exdb/mnist/t10k-images-idx3-ubyte.gz\n",
      "Downloading http://yann.lecun.com/exdb/mnist/t10k-labels-idx1-ubyte.gz\n",
      "Processing...\n",
      "Done!\n"
     ]
    }
   ],
   "source": [
    "### Run this cell\n",
    "\n",
    "from torchvision import datasets, transforms\n",
    "\n",
    "# Define a transform to normalize the data\n",
    "transform = transforms.Compose([transforms.ToTensor(),\n",
    "                              transforms.Normalize((0.5,), (0.5,)),\n",
    "                              ])\n",
    "\n",
    "# Download and load the training data\n",
    "trainset = datasets.MNIST('~/.pytorch/MNIST_data/', download=True, train=True, transform=transform)\n",
    "trainloader = torch.utils.data.DataLoader(trainset, batch_size=64, shuffle=True)"
   ]
  },
  {
   "cell_type": "markdown",
   "metadata": {},
   "source": [
    "We have the training data loaded into `trainloader` and we make that an iterator with `iter(trainloader)`. Later, we'll use this to loop through the dataset for training, like\n",
    "\n",
    "```python\n",
    "for image, label in trainloader:\n",
    "    ## do things with images and labels\n",
    "```\n",
    "\n",
    "You'll notice I created the `trainloader` with a batch size of 64, and `shuffle=True`. The batch size is the number of images we get in one iteration from the data loader and pass through our network, often called a *batch*. And `shuffle=True` tells it to shuffle the dataset every time we start going through the data loader again. But here I'm just grabbing the first batch so we can check out the data. We can see below that `images` is just a tensor with size `(64, 1, 28, 28)`. So, 64 images per batch, 1 color channel, and 28x28 images."
   ]
  },
  {
   "cell_type": "code",
   "execution_count": 4,
   "metadata": {},
   "outputs": [
    {
     "name": "stdout",
     "output_type": "stream",
     "text": [
      "<class 'torch.Tensor'>\n",
      "torch.Size([64, 1, 28, 28])\n",
      "torch.Size([64])\n"
     ]
    }
   ],
   "source": [
    "dataiter = iter(trainloader)\n",
    "images, labels = dataiter.next()\n",
    "print(type(images))\n",
    "print(images.shape)\n",
    "print(labels.shape)"
   ]
  },
  {
   "cell_type": "markdown",
   "metadata": {},
   "source": [
    "This is what one of the images looks like. "
   ]
  },
  {
   "cell_type": "code",
   "execution_count": 5,
   "metadata": {},
   "outputs": [
    {
     "data": {
      "image/png": "[encoded data removed]",
      "text/plain": [
       "<matplotlib.figure.Figure at 0x7f456e49f2b0>"
      ]
     },
     "metadata": {
      "image/png": {
       "height": 250,
       "width": 253
      },
      "needs_background": "light"
     },
     "output_type": "display_data"
    }
   ],
   "source": [
    "plt.imshow(images[1].numpy().squeeze(), cmap='Greys_r');"
   ]
  },
  {
   "cell_type": "markdown",
   "metadata": {},
   "source": [
    "First, let's try to build a simple network for this dataset using weight matrices and matrix multiplications. Then, we'll see how to do it using PyTorch's `nn` module which provides a much more convenient and powerful method for defining network architectures.\n",
    "\n",
    "The networks you've seen so far are called *fully-connected* or *dense* networks. Each unit in one layer is connected to each unit in the next layer. In fully-connected networks, the input to each layer must be a one-dimensional vector (which can be stacked into a 2D tensor as a batch of multiple examples). However, our images are 28x28 2D tensors, so we need to convert them into 1D vectors. Thinking about sizes, we need to convert the batch of images with shape `(64, 1, 28, 28)` to a have a shape of `(64, 784)`, 784 is 28 times 28. This is typically called *flattening*, we flattened the 2D images into 1D vectors.\n",
    "\n",
    "Previously you built a network with one output unit. Here we need 10 output units, one for each digit. We want our network to predict the digit shown in an image, so what we'll do is calculate probabilities that the image is of any one digit or class. This ends up being a discrete probability distribution over the classes (digits) that tells us the most likely class for the image. That means we need 10 output units for the 10 classes (digits). We'll see how to convert the network output into a probability distribution next.\n",
    "\n",
    "> **Exercise:** Flatten the batch of images `images`. Then build a multi-layer network with 784 input units, 256 hidden units, and 10 output units using random tensors for the weights and biases. For now, use a sigmoid activation for the hidden layer. Leave the output layer without an activation, we'll add one that gives us a probability distribution next."
   ]
  },
  {
   "cell_type": "code",
   "execution_count": 6,
   "metadata": {},
   "outputs": [
    {
     "name": "stdout",
     "output_type": "stream",
     "text": [
      "torch.Size([64, 10])\n",
      "64\n",
      "tensor([[ 11.6227,  26.0700,  15.1069,   4.9328,  -0.3940,  10.3813,\n",
      "          -8.9331,  10.4582, -18.6831,  -4.9373],\n",
      "        [ 13.5973,  16.5942,  13.5943,  17.9319,  -0.3110,  17.1378,\n",
      "         -19.8961,  -3.4785, -15.9208,   2.0169],\n",
      "        [ 13.1252,  20.3007,  11.4595,  13.7200,  -2.5033,  10.5998,\n",
      "         -19.3306,   6.7681, -30.2341,  -5.6572],\n",
      "        [ 10.1417,  19.0547,  -1.8912,   7.3963,   5.9223,   7.6409,\n",
      "         -21.3700,   9.0889, -23.4483,  -5.2875],\n",
      "        [ 19.3145,  24.9714,   9.7142,   7.8142,  -1.9100,  17.3757,\n",
      "         -18.4364,  11.3603, -30.2342,  -4.0065],\n",
      "        [ 18.6742,  23.6051,   8.5346,   7.0045,  -3.2014,  16.3944,\n",
      "         -15.4242,   1.0465, -21.0977,  -2.9515],\n",
      "        [ 19.9122,  26.7022,   8.8922,  13.7142,  -2.3551,   3.7721,\n",
      "         -10.1327,   2.7619, -18.6151, -15.2122],\n",
      "        [ 27.7504,  26.1245,   5.9711,  12.1390,  -0.3291,  11.3153,\n",
      "         -17.2778,   4.4975, -20.1568, -10.2357],\n",
      "        [ 23.6354,  20.5944,   2.8648,  21.4332,  -1.5885,  11.7810,\n",
      "         -19.4729,  -1.3460, -20.1581,  -2.4218],\n",
      "        [ 24.8032,  31.0535,  12.4486,  14.1410,   2.5245,  13.1760,\n",
      "         -18.8953,  -0.4019, -13.0983, -14.5009],\n",
      "        [ 15.0359,  23.0101,   1.4552,  14.0509,   1.2899,  11.4295,\n",
      "         -15.6955,   6.7621, -27.5534, -12.0118],\n",
      "        [ 20.8500,  30.7419,   7.8470,  10.8981,  -1.4783,  10.5206,\n",
      "         -15.7077,  -0.2171, -13.1243,  -6.0546],\n",
      "        [ 15.3955,  17.1078,  13.7129,  21.8424,  -3.7820,   8.6320,\n",
      "          -4.5676,   2.3201, -25.5701,  -5.6899],\n",
      "        [ 10.4341,  27.4970,   0.5418,  14.9875,  -8.1368,  18.4494,\n",
      "         -22.1586,   5.0389, -24.9787, -13.3923],\n",
      "        [ 15.9337,  34.7264,  16.1125,   3.6392,  -6.0748,  11.0438,\n",
      "         -11.2814,  16.3906, -31.5795,  -5.5629],\n",
      "        [ 14.4994,  18.4233,  11.2198,  13.2005,  -3.9171,  12.3568,\n",
      "         -12.2437,  12.6417, -18.9195, -10.0792],\n",
      "        [ 14.1709,  24.3571,  19.9687,   9.3136,  -7.5652,  18.1426,\n",
      "         -15.7941,   8.3378, -23.7400,  -0.4069],\n",
      "        [ 12.6049,  25.4395,  17.0900,  19.9619,   3.1183,  10.4056,\n",
      "         -17.0953,  -8.2613, -28.6133,  -5.8369],\n",
      "        [ 14.3278,  20.3802,  -4.3563,  24.7446,  -2.3008,   9.3880,\n",
      "         -17.4450,   4.2853, -31.1334,  -9.2925],\n",
      "        [ 17.5120,  21.7067,   9.7219,  19.3239,  -3.7140,   7.9566,\n",
      "         -26.3505,   0.6710, -26.5909,  -9.0626],\n",
      "        [ 22.5153,  24.1024,   8.0519,  15.3714,  -0.2261,  17.0560,\n",
      "         -15.5275,  10.8154, -36.0994,  -2.6039],\n",
      "        [ 12.0025,  16.9852,   3.8506,  11.7892,  -5.5928,  14.0981,\n",
      "         -20.9956,   3.8923, -28.1384,  -5.3847],\n",
      "        [ 20.9024,  23.0002,   6.7676,  11.9893,  -9.3107,  15.5340,\n",
      "         -21.7980,   1.1351, -27.8554, -11.7803],\n",
      "        [ 18.4756,  19.9200,   7.1965,  10.3840,   1.0178,  15.6448,\n",
      "         -18.6667,  14.2290, -34.0652,  -6.3428],\n",
      "        [ 17.7131,  15.7177,   1.9079,  15.8745,  -2.9403,  17.1315,\n",
      "         -25.4032,  10.5983, -19.9539,  -1.4017],\n",
      "        [ 16.4067,  26.9382,  13.3214,  15.1145,  -1.5386,  16.3546,\n",
      "         -24.7560,  -2.1209, -26.0552, -10.5211],\n",
      "        [ 21.7092,  22.0252,   6.2924,  20.9690,   0.1488,  11.0939,\n",
      "         -16.7211,  -3.1513, -17.3749, -10.1615],\n",
      "        [ 20.5833,  24.6313,   9.5605,  11.9273,   2.0667,  21.8076,\n",
      "         -19.0352,  10.3719, -26.2821, -10.6907],\n",
      "        [  4.2371,  24.4698,  12.9699,  14.8138,   0.3599,   7.8606,\n",
      "         -15.0282,   4.6899, -25.9313,  -2.5001],\n",
      "        [ 21.8369,  29.7269,   6.0507,   8.9500,  -7.2406,   9.6406,\n",
      "         -22.4378,  10.4595, -20.1079, -10.2921],\n",
      "        [ 10.9700,  13.2588,   3.5488,  18.8630,   8.4469,   5.6098,\n",
      "         -18.3757,  -6.4612,  -8.4621,  -1.5411],\n",
      "        [ 16.9673,  22.8893,   5.7036,  13.1727,   0.3256,  17.2111,\n",
      "         -19.8949,   7.0730, -31.6196, -10.8737],\n",
      "        [ 16.1615,  19.7210,   1.8564,  15.5126,  -5.4480,  17.5636,\n",
      "         -19.2486,   7.0337, -26.1470,  -6.9635],\n",
      "        [ 13.9137,  19.4751,   7.9389,  16.2597,  -3.2788,  16.1553,\n",
      "         -20.9116,   0.8448, -28.7249,  -7.3943],\n",
      "        [ 12.6973,  29.3386,   8.2085,   4.1161, -11.6203,   3.2880,\n",
      "         -15.3790,   5.5421, -12.1912,  -8.8453],\n",
      "        [ 19.6304,  32.9484,   5.1325,  11.7231,  -5.0054,  11.9845,\n",
      "         -17.3651,   1.0386, -31.6519,  -7.3832],\n",
      "        [ 18.2137,  22.5814,  -6.3630,  18.6603,  -6.0642,  16.8913,\n",
      "         -21.8238,   9.4515, -20.6111,  -4.4711],\n",
      "        [ 23.7163,  29.7380,   4.1541,  12.9717, -12.1521,  19.2860,\n",
      "         -23.3278,  -2.4218, -17.7021,  -7.0618],\n",
      "        [  5.0043,  21.7887,  14.6201,  11.2895,   0.7611,  10.0864,\n",
      "         -15.7610,   8.5263, -29.8797, -11.5726],\n",
      "        [ 15.1891,  26.5918,  -0.3584,  20.4408,   2.1221,  12.6010,\n",
      "         -20.7853,  11.1009, -37.2452,  -8.3243],\n",
      "        [ 14.3967,  28.0310,   7.2984,   8.8995,  -6.6036,   4.8491,\n",
      "         -23.9910,   8.3222, -11.1957, -10.1728],\n",
      "        [ 13.8886,  29.6102,  -0.7186,  12.8477, -11.7318,   3.6836,\n",
      "          -6.3207,   9.9027, -23.3187,   0.1167],\n",
      "        [ 15.6966,  24.4725,   8.9916,  10.1933,   5.8016,  14.4162,\n",
      "         -14.4865,  13.3066, -30.2058,  -0.5641],\n",
      "        [  9.8650,  20.2841,  17.0448,   9.1927,   4.2402,  15.6547,\n",
      "         -17.1331,   6.9057, -21.1107,  -2.1068],\n",
      "        [ 19.6531,  22.7600,   1.8650,  16.7956,  -5.3298,  12.1390,\n",
      "         -18.9739,   3.3771, -21.4149,  -4.4384],\n",
      "        [ 14.2391,  16.5154,   3.5121,  24.7104,   0.9333,   2.2351,\n",
      "         -15.3603,   3.4983, -24.7545,  -4.9150],\n",
      "        [ 20.5941,  35.0238,   6.5567,  21.1486,   1.9962,  16.4597,\n",
      "         -21.2707,   4.2839, -27.9530, -11.7844],\n",
      "        [ 19.3794,  30.0562,   7.7440,  -4.6761,  -3.7460,  13.3857,\n",
      "          -7.9779,   7.2400, -22.7695,  -4.0120],\n",
      "        [  6.4001,  15.4693,   6.7875,   8.7404,   9.3897,  13.5809,\n",
      "         -19.0683,  -3.1960, -30.1634,   3.0336],\n",
      "        [ 24.9098,  23.2366,   2.9219,  16.7840,  -6.0756,  17.3622,\n",
      "         -19.5733,   9.5345, -22.4422, -15.2542],\n",
      "        [ 20.6893,  11.9008,  13.5837,   9.2497,  -1.4905,  10.3330,\n",
      "         -15.6515,   5.4984, -19.3067, -11.0877],\n",
      "        [  8.4829,  13.1631,   5.3776,  10.3756,  -1.9941,  11.0091,\n",
      "          -8.0077,   9.2352, -27.7520,  -8.7433],\n",
      "        [ 19.2992,  24.2836,  12.7664,   8.1247,  -4.4968,  15.6619,\n",
      "         -12.3224,  11.6692, -28.5791, -12.0967],\n",
      "        [ 27.9601,  21.8591,  14.7079,  11.2674,  -0.6558,  19.7959,\n",
      "         -11.9606,   3.8114, -27.9712, -10.5142],\n",
      "        [ 17.4452,  25.5494,   5.8371,  17.9231,  -5.3099,  10.1004,\n",
      "         -13.8179,   6.8557, -19.6864, -11.6248],\n",
      "        [ 15.2144,  18.4615,   7.4670,  17.4700,   9.2327,   9.5760,\n",
      "         -17.4530,   0.0054, -22.0293,  -0.9716],\n",
      "        [ 17.0944,  13.2313,   1.7055,  17.1600,   8.7306,   3.9880,\n",
      "         -27.7287,   4.5035, -10.1299,  -2.2393],\n",
      "        [  8.3645,  24.6343,  11.8513,  11.2814,  -7.7214,  20.3669,\n",
      "         -12.7283,  17.7946, -28.7864, -11.2186],\n",
      "        [ 18.5852,  16.8887,   2.5253,  18.6894,   8.4537,   6.2456,\n",
      "          -8.7758,  -2.8834, -27.3807, -14.7892],\n",
      "        [ 20.5601,  22.1012,  10.2305,  12.0038,   9.3180,   6.8576,\n",
      "         -10.2116,   2.8214, -29.4663,  -9.3999],\n",
      "        [ 13.7433,  15.2605,   5.7327,  10.9887,  11.8413,   8.3893,\n",
      "         -13.6246,  10.2241, -24.7948,  -7.4764],\n",
      "        [ 16.4352,  23.3644,   8.4313,  12.3413,   0.9634,   7.7971,\n",
      "          -7.1807,  -0.1653, -21.4624,  -6.5493],\n",
      "        [  4.6506,  23.5759,  12.2656,  18.0181,  -4.5172,  16.1357,\n",
      "         -10.3193,  -0.0590, -24.6490, -10.3717],\n",
      "        [ 17.7673,  18.9637,  -1.7679,   4.3061,  -6.5325,  10.2931,\n",
      "         -17.0449,  19.5745, -25.5668,  -6.5755]])\n"
     ]
    }
   ],
   "source": [
    "## Your solution\n",
    "def activation(x):\n",
    "    return 1/(1+torch.exp(-x))\n",
    "\n",
    "# Flatten the input images\n",
    "inputs = images.view(images.shape[0], -1)\n",
    "\n",
    "# Create parameters\n",
    "w1 = torch.randn(784, 256)\n",
    "b1 = torch.randn(256)\n",
    "\n",
    "w2 = torch.randn(256, 10)\n",
    "b2 = torch.randn(10)\n",
    "\n",
    "h = activation(torch.mm(inputs, w1) + b1)\n",
    "\n",
    "out = torch.mm(h, w2) + b2\n",
    "print(out.shape)\n",
    "print(images.shape[0])\n",
    "print(out)# output of your network, should have shape (64,10)"
   ]
  },
  {
   "cell_type": "markdown",
   "metadata": {},
   "source": [
    "Now we have 10 outputs for our network. We want to pass in an image to our network and get out a probability distribution over the classes that tells us the likely class(es) the image belongs to. Something that looks like this:\n",
    "<img src='assets/image_distribution.png' width=500px>\n",
    "\n",
    "Here we see that the probability for each class is roughly the same. This is representing an untrained network, it hasn't seen any data yet so it just returns a uniform distribution with equal probabilities for each class.\n",
    "\n",
    "To calculate this probability distribution, we often use the [**softmax** function](https://en.wikipedia.org/wiki/Softmax_function). Mathematically this looks like\n",
    "\n",
    "$$\n",
    "\\Large \\sigma(x_i) = \\cfrac{e^{x_i}}{\\sum_k^K{e^{x_k}}}\n",
    "$$\n",
    "\n",
    "What this does is squish each input $x_i$ between 0 and 1 and normalizes the values to give you a proper probability distribution where the probabilites sum up to one.\n",
    "\n",
    "> **Exercise:** Implement a function `softmax` that performs the softmax calculation and returns probability distributions for each example in the batch. Note that you'll need to pay attention to the shapes when doing this. If you have a tensor `a` with shape `(64, 10)` and a tensor `b` with shape `(64,)`, doing `a/b` will give you an error because PyTorch will try to do the division across the columns (called broadcasting) but you'll get a size mismatch. The way to think about this is for each of the 64 examples, you only want to divide by one value, the sum in the denominator. So you need `b` to have a shape of `(64, 1)`. This way PyTorch will divide the 10 values in each row of `a` by the one value in each row of `b`. Pay attention to how you take the sum as well. You'll need to define the `dim` keyword in `torch.sum`. Setting `dim=0` takes the sum across the rows while `dim=1` takes the sum across the columns."
   ]
  },
  {
   "cell_type": "code",
   "execution_count": 7,
   "metadata": {},
   "outputs": [
    {
     "name": "stdout",
     "output_type": "stream",
     "text": [
      "torch.Size([64, 10])\n",
      "tensor([ 1.0000,  1.0000,  1.0000,  1.0000,  1.0000,  1.0000,  1.0000,\n",
      "         1.0000,  1.0000,  1.0000,  1.0000,  1.0000,  1.0000,  1.0000,\n",
      "         1.0000,  1.0000,  1.0000,  1.0000,  1.0000,  1.0000,  1.0000,\n",
      "         1.0000,  1.0000,  1.0000,  1.0000,  1.0000,  1.0000,  1.0000,\n",
      "         1.0000,  1.0000,  1.0000,  1.0000,  1.0000,  1.0000,  1.0000,\n",
      "         1.0000,  1.0000,  1.0000,  1.0000,  1.0000,  1.0000,  1.0000,\n",
      "         1.0000,  1.0000,  1.0000,  1.0000,  1.0000,  1.0000,  1.0000,\n",
      "         1.0000,  1.0000,  1.0000,  1.0000,  1.0000,  1.0000,  1.0000,\n",
      "         1.0000,  1.0000,  1.0000,  1.0000,  1.0000,  1.0000,  1.0000,\n",
      "         1.0000])\n"
     ]
    }
   ],
   "source": [
    "def softmax(x):\n",
    "    ## TODO: Implement the softmax function here\n",
    "    return torch.exp(x)/torch.sum(torch.exp(x), dim=1).view(-1, 1)\n",
    "\n",
    "# Here, out should be the output of the network in the previous excercise with shape (64,10)\n",
    "probabilities = softmax(out)\n",
    "\n",
    "# Does it have the right shape? Should be (64, 10)\n",
    "print(probabilities.shape)\n",
    "# Does it sum to 1?\n",
    "print(probabilities.sum(dim=1))"
   ]
  },
  {
   "cell_type": "markdown",
   "metadata": {},
   "source": [
    "## Building networks with PyTorch\n",
    "\n",
    "PyTorch provides a module `nn` that makes building networks much simpler. Here I'll show you how to build the same one as above with 784 inputs, 256 hidden units, 10 output units and a softmax output."
   ]
  },
  {
   "cell_type": "code",
   "execution_count": 8,
   "metadata": {},
   "outputs": [],
   "source": [
    "from torch import nn"
   ]
  },
  {
   "cell_type": "code",
   "execution_count": 12,
   "metadata": {},
   "outputs": [],
   "source": [
    "class Network1(nn.Module):\n",
    "    def __init__(self):\n",
    "        super().__init__()\n",
    "        \n",
    "        # Inputs to hidden layer linear transformation\n",
    "        self.hidden = nn.Linear(784, 256)\n",
    "        # Output layer, 10 units - one for each digit\n",
    "        self.output = nn.Linear(256, 10)\n",
    "        \n",
    "        # Define sigmoid activation and softmax output \n",
    "        self.sigmoid = nn.Sigmoid()\n",
    "        self.softmax = nn.Softmax(dim=1)\n",
    "        \n",
    "    def forward(self, x):\n",
    "        # Pass the input tensor through each of our operations\n",
    "        x = self.hidden(x)\n",
    "        x = self.sigmoid(x)\n",
    "        x = self.output(x)\n",
    "        x = self.softmax(x)\n",
    "        \n",
    "        return x"
   ]
  },
  {
   "cell_type": "markdown",
   "metadata": {},
   "source": [
    "Let's go through this bit by bit.\n",
    "\n",
    "```python\n",
    "class Network(nn.Module):\n",
    "```\n",
    "\n",
    "Here we're inheriting from `nn.Module`. Combined with `super().__init__()` this creates a class that tracks the architecture and provides a lot of useful methods and attributes. It is mandatory to inherit from `nn.Module` when you're creating a class for your network. The name of the class itself can be anything.\n",
    "\n",
    "```python\n",
    "self.hidden = nn.Linear(784, 256)\n",
    "```\n",
    "\n",
    "This line creates a module for a linear transformation, $x\\mathbf{W} + b$, with 784 inputs and 256 outputs and assigns it to `self.hidden`. The module automatically creates the weight and bias tensors which we'll use in the `forward` method. You can access the weight and bias tensors once the network (`net`) is created with `net.hidden.weight` and `net.hidden.bias`.\n",
    "\n",
    "```python\n",
    "self.output = nn.Linear(256, 10)\n",
    "```\n",
    "\n",
    "Similarly, this creates another linear transformation with 256 inputs and 10 outputs.\n",
    "\n",
    "```python\n",
    "self.sigmoid = nn.Sigmoid()\n",
    "self.softmax = nn.Softmax(dim=1)\n",
    "```\n",
    "\n",
    "Here I defined operations for the sigmoid activation and softmax output. Setting `dim=1` in `nn.Softmax(dim=1)` calculates softmax across the columns.\n",
    "\n",
    "```python\n",
    "def forward(self, x):\n",
    "```\n",
    "\n",
    "PyTorch networks created with `nn.Module` must have a `forward` method defined. It takes in a tensor `x` and passes it through the operations you defined in the `__init__` method.\n",
    "\n",
    "```python\n",
    "x = self.hidden(x)\n",
    "x = self.sigmoid(x)\n",
    "x = self.output(x)\n",
    "x = self.softmax(x)\n",
    "```\n",
    "\n",
    "Here the input tensor `x` is passed through each operation a reassigned to `x`. We can see that the input tensor goes through the hidden layer, then a sigmoid function, then the output layer, and finally the softmax function. It doesn't matter what you name the variables here, as long as the inputs and outputs of the operations match the network architecture you want to build. The order in which you define things in the `__init__` method doesn't matter, but you'll need to sequence the operations correctly in the `forward` method.\n",
    "\n",
    "Now we can create a `Network` object."
   ]
  },
  {
   "cell_type": "code",
   "execution_count": 13,
   "metadata": {},
   "outputs": [
    {
     "data": {
      "text/plain": [
       "Network1(\n",
       "  (hidden): Linear(in_features=784, out_features=256, bias=True)\n",
       "  (output): Linear(in_features=256, out_features=10, bias=True)\n",
       "  (sigmoid): Sigmoid()\n",
       "  (softmax): Softmax()\n",
       ")"
      ]
     },
     "execution_count": 13,
     "metadata": {},
     "output_type": "execute_result"
    }
   ],
   "source": [
    "# Create the network and look at it's text representation\n",
    "model = Network1()\n",
    "model"
   ]
  },
  {
   "cell_type": "markdown",
   "metadata": {},
   "source": [
    "You can define the network somewhat more concisely and clearly using the `torch.nn.functional` module. This is the most common way you'll see networks defined as many operations are simple element-wise functions. We normally import this module as `F`, `import torch.nn.functional as F`."
   ]
  },
  {
   "cell_type": "code",
   "execution_count": 14,
   "metadata": {},
   "outputs": [],
   "source": [
    "import torch.nn.functional as F\n",
    "\n",
    "class Network2(nn.Module):\n",
    "    def __init__(self):\n",
    "        super().__init__()\n",
    "        # Inputs to hidden layer linear transformation\n",
    "        self.hidden = nn.Linear(784, 256)\n",
    "        # Output layer, 10 units - one for each digit\n",
    "        self.output = nn.Linear(256, 10)\n",
    "        \n",
    "    def forward(self, x):\n",
    "        # Hidden layer with sigmoid activation\n",
    "        x = F.sigmoid(self.hidden(x))\n",
    "        # Output layer with softmax activation\n",
    "        x = F.softmax(self.output(x), dim=1)\n",
    "        \n",
    "        return x"
   ]
  },
  {
   "cell_type": "markdown",
   "metadata": {},
   "source": [
    "### Activation functions\n",
    "\n",
    "So far we've only been looking at the softmax activation, but in general any function can be used as an activation function. The only requirement is that for a network to approximate a non-linear function, the activation functions must be non-linear. Here are a few more examples of common activation functions: Tanh (hyperbolic tangent), and ReLU (rectified linear unit).\n",
    "\n",
    "<img src=\"assets/activation.png\" width=700px>\n",
    "\n",
    "In practice, the ReLU function is used almost exclusively as the activation function for hidden layers."
   ]
  },
  {
   "cell_type": "markdown",
   "metadata": {},
   "source": [
    "### Your Turn to Build a Network\n",
    "\n",
    "<img src=\"assets/mlp_mnist.png\" width=600px>\n",
    "\n",
    "> **Exercise:** Create a network with 784 input units, a hidden layer with 128 units and a ReLU activation, then a hidden layer with 64 units and a ReLU activation, and finally an output layer with a softmax activation as shown above. You can use a ReLU activation with the `nn.ReLU` module or `F.relu` function."
   ]
  },
  {
   "cell_type": "code",
   "execution_count": 20,
   "metadata": {
    "scrolled": true
   },
   "outputs": [],
   "source": [
    "## Your solution here\n",
    "import torch.nn.functional as F\n",
    "\n",
    "class Network3(nn.Module):\n",
    "    def __init__(self):\n",
    "        super().__init__()\n",
    "        # Inputs to hidden layer linear transformation\n",
    "        self.hidden1 = nn.Linear(784, 128)\n",
    "        self.hidden2 = nn.Linear(128, 64)\n",
    "        \n",
    "        # Output layer, 10 units - one for each digit\n",
    "        self.output = nn.Linear(64, 10)\n",
    "        \n",
    "    def forward(self, x):\n",
    "        # Hidden layer with sigmoid activation\n",
    "        x = self.hidden1(x)\n",
    "        x = F.relu(x)\n",
    "        x = self.hidden2(x)\n",
    "        x = F.relu(x)\n",
    "        x = self.output(x)\n",
    "        \n",
    "        # Output layer with softmax activation\n",
    "        x = F.softmax(x, dim=1)\n",
    "        \n",
    "        return x"
   ]
  },
  {
   "cell_type": "code",
   "execution_count": 21,
   "metadata": {},
   "outputs": [
    {
     "data": {
      "text/plain": [
       "Network3(\n",
       "  (hidden1): Linear(in_features=784, out_features=128, bias=True)\n",
       "  (hidden2): Linear(in_features=128, out_features=64, bias=True)\n",
       "  (output): Linear(in_features=64, out_features=10, bias=True)\n",
       ")"
      ]
     },
     "execution_count": 21,
     "metadata": {},
     "output_type": "execute_result"
    }
   ],
   "source": [
    "model = Network3()\n",
    "model"
   ]
  },
  {
   "cell_type": "markdown",
   "metadata": {},
   "source": [
    "### Initializing weights and biases\n",
    "\n",
    "The weights and such are automatically initialized for you, but it's possible to customize how they are initialized. The weights and biases are tensors attached to the layer you defined, you can get them with `model.fc1.weight` for instance."
   ]
  },
  {
   "cell_type": "code",
   "execution_count": 22,
   "metadata": {},
   "outputs": [
    {
     "name": "stdout",
     "output_type": "stream",
     "text": [
      "Parameter containing:\n",
      "tensor([[-2.8076e-03,  1.6297e-03,  1.6069e-02,  ..., -3.1553e-02,\n",
      "          1.6728e-02,  2.3402e-02],\n",
      "        [ 3.0328e-03,  8.1553e-03, -3.0632e-02,  ..., -9.1312e-03,\n",
      "         -5.2575e-03,  2.6716e-02],\n",
      "        [ 3.5563e-02,  9.7417e-03, -1.2983e-02,  ..., -1.6092e-02,\n",
      "         -9.3006e-04, -3.0733e-03],\n",
      "        ...,\n",
      "        [ 3.2610e-02,  8.5210e-03, -1.2444e-02,  ...,  4.7851e-03,\n",
      "         -1.3682e-02, -5.8011e-03],\n",
      "        [ 2.1262e-02, -5.8087e-03, -2.6441e-02,  ..., -2.6296e-02,\n",
      "         -3.3425e-02,  1.4300e-03],\n",
      "        [-2.0120e-02, -5.4332e-03,  6.3773e-03,  ...,  1.3870e-02,\n",
      "          4.4222e-03, -2.3203e-02]])\n",
      "Parameter containing:\n",
      "tensor(1.00000e-02 *\n",
      "       [ 1.0947,  1.8108, -2.7529, -2.9725,  2.5424,  1.5226, -2.6537,\n",
      "        -2.5706, -1.4078,  3.3175,  0.5945,  0.1131, -0.1883, -1.8870,\n",
      "        -3.3514, -0.7360,  1.8700, -0.8904, -1.0856, -0.4040,  2.9039,\n",
      "        -3.5454,  1.0138,  2.9466, -2.4194,  1.2929,  2.4079, -2.9203,\n",
      "         0.4984, -0.3740, -0.0981,  0.7456,  1.7480,  0.8334,  3.5714,\n",
      "         1.8390, -2.2419,  2.4279,  3.3644, -3.1519, -1.9548,  0.3656,\n",
      "         1.5520, -2.7710,  1.0081,  0.0726,  3.2739,  1.5291, -0.9492,\n",
      "         0.2776, -1.5390,  0.3130,  1.9225,  3.1335, -1.2781, -2.8074,\n",
      "         2.4476,  0.2179,  2.3321,  3.4397,  3.3528,  2.0867,  1.2613,\n",
      "         2.4813,  3.5028, -0.7125,  2.0974, -1.9325,  3.2718,  1.5776,\n",
      "        -2.9139, -2.4423, -3.4907, -1.5326,  3.0996,  0.3490,  1.2137,\n",
      "        -2.0917, -3.2133, -2.8919,  2.5218,  1.3450, -2.7281, -1.8073,\n",
      "        -0.4860,  0.0113,  0.6139,  0.0647,  3.1932, -2.1099, -2.7303,\n",
      "        -3.4811, -1.5883,  1.8748,  1.9855, -2.2649, -2.5937, -2.7561,\n",
      "        -3.2686, -0.3558,  1.8662,  2.8746, -2.8844, -2.6662, -1.8052,\n",
      "        -2.6951, -2.5768, -1.0787, -0.2884,  0.8226,  2.1258, -0.0518,\n",
      "        -0.5549, -1.8752,  1.7019, -0.3663,  1.3229,  2.7630,  1.2398,\n",
      "         0.6421, -1.7769,  0.8964,  1.6910,  2.1016, -1.2285, -0.2330,\n",
      "         1.7939, -0.9426])\n"
     ]
    }
   ],
   "source": [
    "print(model.hidden1.weight)\n",
    "print(model.hidden1.bias)"
   ]
  },
  {
   "cell_type": "markdown",
   "metadata": {},
   "source": [
    "For custom initialization, we want to modify these tensors in place. These are actually autograd *Variables*, so we need to get back the actual tensors with `model.fc1.weight.data`. Once we have the tensors, we can fill them with zeros (for biases) or random normal values."
   ]
  },
  {
   "cell_type": "code",
   "execution_count": 23,
   "metadata": {},
   "outputs": [
    {
     "data": {
      "text/plain": [
       "tensor([ 0.,  0.,  0.,  0.,  0.,  0.,  0.,  0.,  0.,  0.,  0.,  0.,\n",
       "         0.,  0.,  0.,  0.,  0.,  0.,  0.,  0.,  0.,  0.,  0.,  0.,\n",
       "         0.,  0.,  0.,  0.,  0.,  0.,  0.,  0.,  0.,  0.,  0.,  0.,\n",
       "         0.,  0.,  0.,  0.,  0.,  0.,  0.,  0.,  0.,  0.,  0.,  0.,\n",
       "         0.,  0.,  0.,  0.,  0.,  0.,  0.,  0.,  0.,  0.,  0.,  0.,\n",
       "         0.,  0.,  0.,  0.,  0.,  0.,  0.,  0.,  0.,  0.,  0.,  0.,\n",
       "         0.,  0.,  0.,  0.,  0.,  0.,  0.,  0.,  0.,  0.,  0.,  0.,\n",
       "         0.,  0.,  0.,  0.,  0.,  0.,  0.,  0.,  0.,  0.,  0.,  0.,\n",
       "         0.,  0.,  0.,  0.,  0.,  0.,  0.,  0.,  0.,  0.,  0.,  0.,\n",
       "         0.,  0.,  0.,  0.,  0.,  0.,  0.,  0.,  0.,  0.,  0.,  0.,\n",
       "         0.,  0.,  0.,  0.,  0.,  0.,  0.,  0.])"
      ]
     },
     "execution_count": 23,
     "metadata": {},
     "output_type": "execute_result"
    }
   ],
   "source": [
    "# Set biases to all zeros\n",
    "model.hidden1.bias.data.fill_(0)"
   ]
  },
  {
   "cell_type": "code",
   "execution_count": 24,
   "metadata": {},
   "outputs": [
    {
     "data": {
      "text/plain": [
       "tensor([[-9.6282e-03, -8.1509e-03,  4.8413e-03,  ...,  1.5841e-03,\n",
       "          2.3354e-02,  1.5977e-02],\n",
       "        [-1.4707e-02,  5.2693e-03,  2.0160e-02,  ...,  6.4023e-03,\n",
       "          8.7034e-03,  1.0973e-02],\n",
       "        [-7.7434e-03, -2.0487e-02,  1.6766e-02,  ..., -4.8997e-03,\n",
       "          4.8289e-03, -1.6346e-02],\n",
       "        ...,\n",
       "        [ 1.7143e-02,  1.7669e-02,  4.6525e-03,  ...,  4.9658e-03,\n",
       "         -1.0855e-02, -1.8590e-03],\n",
       "        [-5.7922e-03,  3.2414e-03,  2.5773e-03,  ..., -1.1267e-03,\n",
       "         -9.8737e-04,  3.2390e-03],\n",
       "        [ 1.9205e-02,  2.6814e-03, -6.9753e-03,  ...,  4.1073e-03,\n",
       "          1.6175e-02,  5.1075e-03]])"
      ]
     },
     "execution_count": 24,
     "metadata": {},
     "output_type": "execute_result"
    }
   ],
   "source": [
    "# sample from random normal with standard dev = 0.01\n",
    "model.hidden1.weight.data.normal_(std=0.01)"
   ]
  },
  {
   "cell_type": "markdown",
   "metadata": {},
   "source": [
    "### Forward pass\n",
    "\n",
    "Now that we have a network, let's see what happens when we pass in an image."
   ]
  },
  {
   "cell_type": "code",
   "execution_count": null,
   "metadata": {
    "collapsed": true
   },
   "outputs": [],
   "source": [
    "# Grab some data \n",
    "dataiter = iter(trainloader)\n",
    "images, labels = dataiter.next()\n",
    "\n",
    "# Resize images into a 1D vector, new shape is (batch size, color channels, image pixels) \n",
    "images.resize_(64, 1, 784)\n",
    "# or images.resize_(images.shape[0], 1, 784) to automatically get batch size\n",
    "\n",
    "# Forward pass through the network\n",
    "img_idx = 0\n",
    "ps = model.forward(images[img_idx,:])\n",
    "\n",
    "img = images[img_idx]\n",
    "helper.view_classify(img.view(1, 28, 28), ps)"
   ]
  },
  {
   "cell_type": "markdown",
   "metadata": {},
   "source": [
    "As you can see above, our network has basically no idea what this digit is. It's because we haven't trained it yet, all the weights are random!\n",
    "\n",
    "### Using `nn.Sequential`\n",
    "\n",
    "PyTorch provides a convenient way to build networks like this where a tensor is passed sequentially through operations, `nn.Sequential` ([documentation](https://pytorch.org/docs/master/nn.html#torch.nn.Sequential)). Using this to build the equivalent network:"
   ]
  },
  {
   "cell_type": "code",
   "execution_count": null,
   "metadata": {
    "collapsed": true
   },
   "outputs": [],
   "source": [
    "# Hyperparameters for our network\n",
    "input_size = 784\n",
    "hidden_sizes = [128, 64]\n",
    "output_size = 10\n",
    "\n",
    "# Build a feed-forward network\n",
    "model = nn.Sequential(nn.Linear(input_size, hidden_sizes[0]),\n",
    "                      nn.ReLU(),\n",
    "                      nn.Linear(hidden_sizes[0], hidden_sizes[1]),\n",
    "                      nn.ReLU(),\n",
    "                      nn.Linear(hidden_sizes[1], output_size),\n",
    "                      nn.Softmax(dim=1))\n",
    "print(model)\n",
    "\n",
    "# Forward pass through the network and display output\n",
    "images, labels = next(iter(trainloader))\n",
    "images.resize_(images.shape[0], 1, 784)\n",
    "ps = model.forward(images[0,:])\n",
    "helper.view_classify(images[0].view(1, 28, 28), ps)"
   ]
  },
  {
   "cell_type": "markdown",
   "metadata": {},
   "source": [
    "Here our model is the same as before: 784 input units, a hidden layer with 128 units, ReLU activation, 64 unit hidden layer, another ReLU, then the output layer with 10 units, and the softmax output.\n",
    "\n",
    "The operations are availble by passing in the appropriate index. For example, if you want to get first Linear operation and look at the weights, you'd use `model[0]`."
   ]
  },
  {
   "cell_type": "code",
   "execution_count": null,
   "metadata": {
    "collapsed": true
   },
   "outputs": [],
   "source": [
    "print(model[0])\n",
    "model[0].weight"
   ]
  },
  {
   "cell_type": "markdown",
   "metadata": {},
   "source": [
    "You can also pass in an `OrderedDict` to name the individual layers and operations, instead of using incremental integers. Note that dictionary keys must be unique, so _each operation must have a different name_."
   ]
  },
  {
   "cell_type": "code",
   "execution_count": null,
   "metadata": {
    "collapsed": true
   },
   "outputs": [],
   "source": [
    "from collections import OrderedDict\n",
    "model = nn.Sequential(OrderedDict([\n",
    "                      ('fc1', nn.Linear(input_size, hidden_sizes[0])),\n",
    "                      ('relu1', nn.ReLU()),\n",
    "                      ('fc2', nn.Linear(hidden_sizes[0], hidden_sizes[1])),\n",
    "                      ('relu2', nn.ReLU()),\n",
    "                      ('output', nn.Linear(hidden_sizes[1], output_size)),\n",
    "                      ('softmax', nn.Softmax(dim=1))]))\n",
    "model"
   ]
  },
  {
   "cell_type": "markdown",
   "metadata": {},
   "source": [
    "Now you can access layers either by integer or the name"
   ]
  },
  {
   "cell_type": "code",
   "execution_count": null,
   "metadata": {
    "collapsed": true
   },
   "outputs": [],
   "source": [
    "print(model[0])\n",
    "print(model.fc1)"
   ]
  },
  {
   "cell_type": "markdown",
   "metadata": {},
   "source": [
    "In the next notebook, we'll see how we can train a neural network to accuractly predict the numbers appearing in the MNIST images."
   ]
  }
 ],
 "metadata": {
  "kernelspec": {
   "display_name": "Python 3",
   "language": "python",
   "name": "python3"
  },
  "language_info": {
   "codemirror_mode": {
    "name": "ipython",
    "version": 3
   },
   "file_extension": ".py",
   "mimetype": "text/x-python",
   "name": "python",
   "nbconvert_exporter": "python",
   "pygments_lexer": "ipython3",
   "version": "3.6.3"
  }
 },
 "nbformat": 4,
 "nbformat_minor": 2
}
